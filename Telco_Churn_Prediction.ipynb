{
  "nbformat": 4,
  "nbformat_minor": 0,
  "metadata": {
    "colab": {
      "provenance": []
    },
    "kernelspec": {
      "name": "python3",
      "display_name": "Python 3"
    },
    "language_info": {
      "name": "python"
    }
  },
  "cells": [
    {
      "cell_type": "code",
      "execution_count": 2,
      "metadata": {
        "id": "d32Jtv3YkV44"
      },
      "outputs": [],
      "source": [
        "import pandas as pd\n",
        "import numpy as np\n",
        "import matplotlib.pyplot as plt\n",
        "import seaborn as sns\n",
        "from sklearn.preprocessing import LabelEncoder, StandardScaler\n",
        "from sklearn.model_selection import train_test_split"
      ]
    },
    {
      "cell_type": "code",
      "source": [
        "df = pd.read_csv('/content/WA_Fn-UseC_-Telco-Customer-Churn.csv')"
      ],
      "metadata": {
        "id": "35qBAN4GkwIb"
      },
      "execution_count": 3,
      "outputs": []
    },
    {
      "cell_type": "code",
      "source": [
        "# Initial exploration\n",
        "print(\"Dataset shape:\", df.shape)\n",
        "print(\"\\nColumn names and data types:\")\n",
        "print(df.dtypes)\n",
        "print(\"\\nFirst few rows:\")\n",
        "print(df.head())"
      ],
      "metadata": {
        "colab": {
          "base_uri": "https://localhost:8080/"
        },
        "id": "OnWwrEoHk5y7",
        "outputId": "f20bb9b3-d4bd-4d14-b15e-4b2f08805fc0"
      },
      "execution_count": 4,
      "outputs": [
        {
          "output_type": "stream",
          "name": "stdout",
          "text": [
            "Dataset shape: (7043, 21)\n",
            "\n",
            "Column names and data types:\n",
            "customerID           object\n",
            "gender               object\n",
            "SeniorCitizen         int64\n",
            "Partner              object\n",
            "Dependents           object\n",
            "tenure                int64\n",
            "PhoneService         object\n",
            "MultipleLines        object\n",
            "InternetService      object\n",
            "OnlineSecurity       object\n",
            "OnlineBackup         object\n",
            "DeviceProtection     object\n",
            "TechSupport          object\n",
            "StreamingTV          object\n",
            "StreamingMovies      object\n",
            "Contract             object\n",
            "PaperlessBilling     object\n",
            "PaymentMethod        object\n",
            "MonthlyCharges      float64\n",
            "TotalCharges         object\n",
            "Churn                object\n",
            "dtype: object\n",
            "\n",
            "First few rows:\n",
            "   customerID  gender  SeniorCitizen Partner Dependents  tenure PhoneService  \\\n",
            "0  7590-VHVEG  Female              0     Yes         No       1           No   \n",
            "1  5575-GNVDE    Male              0      No         No      34          Yes   \n",
            "2  3668-QPYBK    Male              0      No         No       2          Yes   \n",
            "3  7795-CFOCW    Male              0      No         No      45           No   \n",
            "4  9237-HQITU  Female              0      No         No       2          Yes   \n",
            "\n",
            "      MultipleLines InternetService OnlineSecurity  ... DeviceProtection  \\\n",
            "0  No phone service             DSL             No  ...               No   \n",
            "1                No             DSL            Yes  ...              Yes   \n",
            "2                No             DSL            Yes  ...               No   \n",
            "3  No phone service             DSL            Yes  ...              Yes   \n",
            "4                No     Fiber optic             No  ...               No   \n",
            "\n",
            "  TechSupport StreamingTV StreamingMovies        Contract PaperlessBilling  \\\n",
            "0          No          No              No  Month-to-month              Yes   \n",
            "1          No          No              No        One year               No   \n",
            "2          No          No              No  Month-to-month              Yes   \n",
            "3         Yes          No              No        One year               No   \n",
            "4          No          No              No  Month-to-month              Yes   \n",
            "\n",
            "               PaymentMethod MonthlyCharges  TotalCharges Churn  \n",
            "0           Electronic check          29.85         29.85    No  \n",
            "1               Mailed check          56.95        1889.5    No  \n",
            "2               Mailed check          53.85        108.15   Yes  \n",
            "3  Bank transfer (automatic)          42.30       1840.75    No  \n",
            "4           Electronic check          70.70        151.65   Yes  \n",
            "\n",
            "[5 rows x 21 columns]\n"
          ]
        }
      ]
    },
    {
      "cell_type": "code",
      "source": [
        "# Check for missing values\n",
        "print(\"\\nMissing values:\")\n",
        "print(df.isnull().sum())"
      ],
      "metadata": {
        "colab": {
          "base_uri": "https://localhost:8080/"
        },
        "id": "kBz6u-HulgQw",
        "outputId": "89389f0d-d6ae-40fb-e05b-c1df1ee12988"
      },
      "execution_count": 5,
      "outputs": [
        {
          "output_type": "stream",
          "name": "stdout",
          "text": [
            "\n",
            "Missing values:\n",
            "customerID          0\n",
            "gender              0\n",
            "SeniorCitizen       0\n",
            "Partner             0\n",
            "Dependents          0\n",
            "tenure              0\n",
            "PhoneService        0\n",
            "MultipleLines       0\n",
            "InternetService     0\n",
            "OnlineSecurity      0\n",
            "OnlineBackup        0\n",
            "DeviceProtection    0\n",
            "TechSupport         0\n",
            "StreamingTV         0\n",
            "StreamingMovies     0\n",
            "Contract            0\n",
            "PaperlessBilling    0\n",
            "PaymentMethod       0\n",
            "MonthlyCharges      0\n",
            "TotalCharges        0\n",
            "Churn               0\n",
            "dtype: int64\n"
          ]
        }
      ]
    },
    {
      "cell_type": "code",
      "source": [
        "# Check unique values in each column\n",
        "print(\"\\nUnique values per column:\")\n",
        "for col in df.columns:\n",
        "    print(f\"{col}: {df[col].nunique()} unique values\")\n",
        "    if df[col].nunique() <= 10:\n",
        "        print(f\"  Values: {df[col].unique()}\")\n",
        "    print()"
      ],
      "metadata": {
        "colab": {
          "base_uri": "https://localhost:8080/"
        },
        "id": "8-SEeT0EljZ3",
        "outputId": "24f5888f-c5cd-4746-e7fd-0f5cd292db27"
      },
      "execution_count": 6,
      "outputs": [
        {
          "output_type": "stream",
          "name": "stdout",
          "text": [
            "\n",
            "Unique values per column:\n",
            "customerID: 7043 unique values\n",
            "\n",
            "gender: 2 unique values\n",
            "  Values: ['Female' 'Male']\n",
            "\n",
            "SeniorCitizen: 2 unique values\n",
            "  Values: [0 1]\n",
            "\n",
            "Partner: 2 unique values\n",
            "  Values: ['Yes' 'No']\n",
            "\n",
            "Dependents: 2 unique values\n",
            "  Values: ['No' 'Yes']\n",
            "\n",
            "tenure: 73 unique values\n",
            "\n",
            "PhoneService: 2 unique values\n",
            "  Values: ['No' 'Yes']\n",
            "\n",
            "MultipleLines: 3 unique values\n",
            "  Values: ['No phone service' 'No' 'Yes']\n",
            "\n",
            "InternetService: 3 unique values\n",
            "  Values: ['DSL' 'Fiber optic' 'No']\n",
            "\n",
            "OnlineSecurity: 3 unique values\n",
            "  Values: ['No' 'Yes' 'No internet service']\n",
            "\n",
            "OnlineBackup: 3 unique values\n",
            "  Values: ['Yes' 'No' 'No internet service']\n",
            "\n",
            "DeviceProtection: 3 unique values\n",
            "  Values: ['No' 'Yes' 'No internet service']\n",
            "\n",
            "TechSupport: 3 unique values\n",
            "  Values: ['No' 'Yes' 'No internet service']\n",
            "\n",
            "StreamingTV: 3 unique values\n",
            "  Values: ['No' 'Yes' 'No internet service']\n",
            "\n",
            "StreamingMovies: 3 unique values\n",
            "  Values: ['No' 'Yes' 'No internet service']\n",
            "\n",
            "Contract: 3 unique values\n",
            "  Values: ['Month-to-month' 'One year' 'Two year']\n",
            "\n",
            "PaperlessBilling: 2 unique values\n",
            "  Values: ['Yes' 'No']\n",
            "\n",
            "PaymentMethod: 4 unique values\n",
            "  Values: ['Electronic check' 'Mailed check' 'Bank transfer (automatic)'\n",
            " 'Credit card (automatic)']\n",
            "\n",
            "MonthlyCharges: 1585 unique values\n",
            "\n",
            "TotalCharges: 6531 unique values\n",
            "\n",
            "Churn: 2 unique values\n",
            "  Values: ['No' 'Yes']\n",
            "\n"
          ]
        }
      ]
    },
    {
      "cell_type": "code",
      "source": [
        "def clean_telco_data(df):\n",
        "    \"\"\"\n",
        "    Clean the Telco Customer Churn dataset based on actual data structure\n",
        "    \"\"\"\n",
        "    df_clean = df.copy()\n",
        "\n",
        "    print(\"1. Handling TotalCharges column...\")\n",
        "    # TotalCharges is object type but should be numeric\n",
        "    # Check for non-numeric values\n",
        "    print(f\"TotalCharges unique non-numeric values: {df_clean['TotalCharges'][pd.to_numeric(df_clean['TotalCharges'], errors='coerce').isna()].unique()}\")\n",
        "\n",
        "    # Convert TotalCharges to numeric, replacing spaces/empty strings with NaN\n",
        "    df_clean['TotalCharges'] = df_clean['TotalCharges'].replace(' ', np.nan)\n",
        "    df_clean['TotalCharges'] = pd.to_numeric(df_clean['TotalCharges'], errors='coerce')\n",
        "\n",
        "    # Fill missing TotalCharges (likely new customers with 0 tenure)\n",
        "    missing_total_charges = df_clean['TotalCharges'].isna().sum()\n",
        "    print(f\"Missing TotalCharges values: {missing_total_charges}\")\n",
        "\n",
        "    # For customers with 0 tenure, set TotalCharges to MonthlyCharges\n",
        "    # For others, use median or calculate based on tenure and monthly charges\n",
        "    df_clean.loc[df_clean['TotalCharges'].isna() & (df_clean['tenure'] <= 1), 'TotalCharges'] = df_clean['MonthlyCharges']\n",
        "    df_clean.loc[df_clean['TotalCharges'].isna() & (df_clean['tenure'] > 1), 'TotalCharges'] = df_clean['MonthlyCharges'] * df_clean['tenure']\n",
        "\n",
        "    print(\"2. Converting SeniorCitizen to categorical...\")\n",
        "    # Convert SeniorCitizen from int to categorical for consistency\n",
        "    df_clean['SeniorCitizen'] = df_clean['SeniorCitizen'].map({0: 'No', 1: 'Yes'})\n",
        "\n",
        "    print(\"3. Standardizing categorical values...\")\n",
        "    # Convert Yes/No columns to binary (1/0) for modeling\n",
        "    binary_cols = ['Partner', 'Dependents', 'PhoneService', 'PaperlessBilling', 'Churn']\n",
        "    for col in binary_cols:\n",
        "        df_clean[col + '_Binary'] = df_clean[col].map({'Yes': 1, 'No': 0})\n",
        "\n",
        "    # Keep original columns for visualization, create binary versions for modeling\n",
        "    df_clean['SeniorCitizen_Binary'] = df_clean['SeniorCitizen'].map({'Yes': 1, 'No': 0})\n",
        "\n",
        "    print(\"4. Handling service-related columns...\")\n",
        "    # Handle 'No internet service' and 'No phone service' values\n",
        "    internet_service_cols = ['OnlineSecurity', 'OnlineBackup', 'DeviceProtection',\n",
        "                            'TechSupport', 'StreamingTV', 'StreamingMovies']\n",
        "\n",
        "    for col in internet_service_cols:\n",
        "        # Create binary columns: 1 for Yes, 0 for No or No internet service\n",
        "        df_clean[col + '_Binary'] = df_clean[col].map({'Yes': 1, 'No': 0, 'No internet service': 0})\n",
        "\n",
        "    # Handle MultipleLines\n",
        "    df_clean['MultipleLines_Binary'] = df_clean['MultipleLines'].map({'Yes': 1, 'No': 0, 'No phone service': 0})\n",
        "\n",
        "    print(\"5. Creating new features...\")\n",
        "    # Average monthly charge per year of tenure (avoid division by zero)\n",
        "    df_clean['AvgChargePerTenure'] = df_clean['MonthlyCharges'] / (df_clean['tenure'] + 1)\n",
        "\n",
        "    # Total charges vs expected charges (tenure * monthly)\n",
        "    df_clean['ExpectedCharges'] = df_clean['MonthlyCharges'] * df_clean['tenure']\n",
        "    df_clean['ChargesDifference'] = df_clean['TotalCharges'] - df_clean['ExpectedCharges']\n",
        "\n",
        "    # Customer lifetime value estimate\n",
        "    df_clean['EstimatedCLV'] = df_clean['MonthlyCharges'] * df_clean['tenure']\n",
        "\n",
        "    # Charges categories\n",
        "    df_clean['MonthlyCharges_Category'] = pd.cut(df_clean['MonthlyCharges'],\n",
        "                                                bins=[0, 35, 65, 95, float('inf')],\n",
        "                                                labels=['Low', 'Medium', 'High', 'Premium'])\n",
        "\n",
        "    # Tenure categories\n",
        "    df_clean['Tenure_Category'] = pd.cut(df_clean['tenure'],\n",
        "                                        bins=[-1, 12, 24, 48, float('inf')],\n",
        "                                        labels=['New', 'Short', 'Medium', 'Long'])\n",
        "\n",
        "    # Count of services (excluding internet and phone base services)\n",
        "    service_cols = ['OnlineSecurity_Binary', 'OnlineBackup_Binary', 'DeviceProtection_Binary',\n",
        "                   'TechSupport_Binary', 'StreamingTV_Binary', 'StreamingMovies_Binary']\n",
        "    df_clean['TotalServices'] = df_clean[service_cols].sum(axis=1)\n",
        "\n",
        "    # Internet service type encoding\n",
        "    df_clean['HasFiberOptic'] = (df_clean['InternetService'] == 'Fiber optic').astype(int)\n",
        "    df_clean['HasDSL'] = (df_clean['InternetService'] == 'DSL').astype(int)\n",
        "    df_clean['NoInternetService'] = (df_clean['InternetService'] == 'No').astype(int)\n",
        "\n",
        "    # Contract type encoding\n",
        "    df_clean['MonthToMonth'] = (df_clean['Contract'] == 'Month-to-month').astype(int)\n",
        "    df_clean['OneYear'] = (df_clean['Contract'] == 'One year').astype(int)\n",
        "    df_clean['TwoYear'] = (df_clean['Contract'] == 'Two year').astype(int)\n",
        "\n",
        "    print(\"Data cleaning completed!\")\n",
        "    return df_clean"
      ],
      "metadata": {
        "id": "Vrz-PgWaluMC"
      },
      "execution_count": 7,
      "outputs": []
    },
    {
      "cell_type": "code",
      "source": [
        "df_cleaned = clean_telco_data(df)\n",
        "\n",
        "print(f\"\\nOriginal shape: {df.shape}\")\n",
        "print(f\"Cleaned shape: {df_cleaned.shape}\")\n",
        "print(f\"New columns added: {df_cleaned.shape[1] - df.shape[1]}\")"
      ],
      "metadata": {
        "colab": {
          "base_uri": "https://localhost:8080/"
        },
        "id": "OJoSfLIioItn",
        "outputId": "0085c0a8-0c66-421b-9133-44910b645bf6"
      },
      "execution_count": 8,
      "outputs": [
        {
          "output_type": "stream",
          "name": "stdout",
          "text": [
            "1. Handling TotalCharges column...\n",
            "TotalCharges unique non-numeric values: [' ']\n",
            "Missing TotalCharges values: 11\n",
            "2. Converting SeniorCitizen to categorical...\n",
            "3. Standardizing categorical values...\n",
            "4. Handling service-related columns...\n",
            "5. Creating new features...\n",
            "Data cleaning completed!\n",
            "\n",
            "Original shape: (7043, 21)\n",
            "Cleaned shape: (7043, 47)\n",
            "New columns added: 26\n"
          ]
        }
      ]
    },
    {
      "cell_type": "code",
      "source": [
        "print(\"\\nColumn names and data types (For cleaned dataframe):\")\n",
        "print(df_cleaned.dtypes)"
      ],
      "metadata": {
        "colab": {
          "base_uri": "https://localhost:8080/"
        },
        "id": "GwsGmO4aoTHW",
        "outputId": "c12ec964-c671-43af-cdd3-7a0267b5a8b2"
      },
      "execution_count": 9,
      "outputs": [
        {
          "output_type": "stream",
          "name": "stdout",
          "text": [
            "\n",
            "Column names and data types (For cleaned dataframe):\n",
            "customerID                   object\n",
            "gender                       object\n",
            "SeniorCitizen                object\n",
            "Partner                      object\n",
            "Dependents                   object\n",
            "tenure                        int64\n",
            "PhoneService                 object\n",
            "MultipleLines                object\n",
            "InternetService              object\n",
            "OnlineSecurity               object\n",
            "OnlineBackup                 object\n",
            "DeviceProtection             object\n",
            "TechSupport                  object\n",
            "StreamingTV                  object\n",
            "StreamingMovies              object\n",
            "Contract                     object\n",
            "PaperlessBilling             object\n",
            "PaymentMethod                object\n",
            "MonthlyCharges              float64\n",
            "TotalCharges                float64\n",
            "Churn                        object\n",
            "Partner_Binary                int64\n",
            "Dependents_Binary             int64\n",
            "PhoneService_Binary           int64\n",
            "PaperlessBilling_Binary       int64\n",
            "Churn_Binary                  int64\n",
            "SeniorCitizen_Binary          int64\n",
            "OnlineSecurity_Binary         int64\n",
            "OnlineBackup_Binary           int64\n",
            "DeviceProtection_Binary       int64\n",
            "TechSupport_Binary            int64\n",
            "StreamingTV_Binary            int64\n",
            "StreamingMovies_Binary        int64\n",
            "MultipleLines_Binary          int64\n",
            "AvgChargePerTenure          float64\n",
            "ExpectedCharges             float64\n",
            "ChargesDifference           float64\n",
            "EstimatedCLV                float64\n",
            "MonthlyCharges_Category    category\n",
            "Tenure_Category            category\n",
            "TotalServices                 int64\n",
            "HasFiberOptic                 int64\n",
            "HasDSL                        int64\n",
            "NoInternetService             int64\n",
            "MonthToMonth                  int64\n",
            "OneYear                       int64\n",
            "TwoYear                       int64\n",
            "dtype: object\n"
          ]
        }
      ]
    },
    {
      "cell_type": "code",
      "source": [
        "def prepare_ml_features(df):\n",
        "    \"\"\"\n",
        "    Prepare features specifically for machine learning models\n",
        "    \"\"\"\n",
        "    # Select features for modeling\n",
        "    feature_columns = [\n",
        "        # Numerical features\n",
        "        'tenure', 'MonthlyCharges', 'TotalCharges', 'AvgChargePerTenure',\n",
        "        'EstimatedCLV', 'TotalServices', 'ChargesDifference',\n",
        "\n",
        "        # Binary encoded features\n",
        "        'SeniorCitizen_Binary', 'Partner_Binary', 'Dependents_Binary',\n",
        "        'PhoneService_Binary', 'PaperlessBilling_Binary',\n",
        "        'OnlineSecurity_Binary', 'OnlineBackup_Binary', 'DeviceProtection_Binary',\n",
        "        'TechSupport_Binary', 'StreamingTV_Binary', 'StreamingMovies_Binary',\n",
        "        'MultipleLines_Binary',\n",
        "\n",
        "        # Service type features\n",
        "        'HasFiberOptic', 'HasDSL', 'NoInternetService',\n",
        "\n",
        "        # Contract features\n",
        "        'MonthToMonth', 'OneYear', 'TwoYear'\n",
        "    ]\n",
        "\n",
        "    # Add payment method encoding\n",
        "    payment_dummies = pd.get_dummies(df['PaymentMethod'], prefix='Payment')\n",
        "\n",
        "    # Combine all features\n",
        "    X = pd.concat([df[feature_columns], payment_dummies], axis=1)\n",
        "\n",
        "    # Target variable\n",
        "    y = df['Churn_Binary']\n",
        "\n",
        "    print(f\"Feature matrix shape: {X.shape}\")\n",
        "    print(f\"Features: {X.columns.tolist()}\")\n",
        "\n",
        "    return X, y"
      ],
      "metadata": {
        "id": "UlVuXmc_rJzs"
      },
      "execution_count": 10,
      "outputs": []
    },
    {
      "cell_type": "code",
      "source": [
        "# Prepare features\n",
        "X, y = prepare_ml_features(df_cleaned)"
      ],
      "metadata": {
        "colab": {
          "base_uri": "https://localhost:8080/"
        },
        "id": "_byMaAZVrOa5",
        "outputId": "e4c703f4-3e37-444b-9a80-1448dd1a612f"
      },
      "execution_count": 11,
      "outputs": [
        {
          "output_type": "stream",
          "name": "stdout",
          "text": [
            "Feature matrix shape: (7043, 29)\n",
            "Features: ['tenure', 'MonthlyCharges', 'TotalCharges', 'AvgChargePerTenure', 'EstimatedCLV', 'TotalServices', 'ChargesDifference', 'SeniorCitizen_Binary', 'Partner_Binary', 'Dependents_Binary', 'PhoneService_Binary', 'PaperlessBilling_Binary', 'OnlineSecurity_Binary', 'OnlineBackup_Binary', 'DeviceProtection_Binary', 'TechSupport_Binary', 'StreamingTV_Binary', 'StreamingMovies_Binary', 'MultipleLines_Binary', 'HasFiberOptic', 'HasDSL', 'NoInternetService', 'MonthToMonth', 'OneYear', 'TwoYear', 'Payment_Bank transfer (automatic)', 'Payment_Credit card (automatic)', 'Payment_Electronic check', 'Payment_Mailed check']\n"
          ]
        }
      ]
    },
    {
      "cell_type": "code",
      "source": [
        "# Scale numerical features\n",
        "numerical_features = ['tenure', 'MonthlyCharges', 'TotalCharges', 'AvgChargePerTenure',\n",
        "                     'EstimatedCLV', 'TotalServices', 'ChargesDifference']\n",
        "\n",
        "scaler = StandardScaler()\n",
        "X_scaled = X.copy()\n",
        "X_scaled[numerical_features] = scaler.fit_transform(X[numerical_features])\n",
        "\n",
        "print(\"\\nFeature scaling completed!\")\n",
        "print(f\"Scaled feature matrix shape: {X_scaled.shape}\")"
      ],
      "metadata": {
        "colab": {
          "base_uri": "https://localhost:8080/"
        },
        "id": "6-erfkjFrRtB",
        "outputId": "1f041a59-32f0-4552-b16c-37a37d6d45ac"
      },
      "execution_count": 12,
      "outputs": [
        {
          "output_type": "stream",
          "name": "stdout",
          "text": [
            "\n",
            "Feature scaling completed!\n",
            "Scaled feature matrix shape: (7043, 29)\n"
          ]
        }
      ]
    },
    {
      "cell_type": "code",
      "source": [
        "# Create visualizations\n",
        "plt.figure(figsize=(16, 12))\n",
        "\n",
        "# 1. Churn rate by contract type\n",
        "plt.subplot(2, 4, 1)\n",
        "churn_contract = df_cleaned.groupby('Contract')['Churn_Binary'].mean()\n",
        "churn_contract.plot(kind='bar', color='skyblue', edgecolor='black')\n",
        "plt.title('Churn Rate by Contract Type')\n",
        "plt.ylabel('Churn Rate')\n",
        "plt.xticks(rotation=45)\n",
        "\n",
        "# 2. Monthly charges distribution by churn\n",
        "plt.subplot(2, 4, 2)\n",
        "df_cleaned.boxplot(column='MonthlyCharges', by='Churn', ax=plt.gca())\n",
        "plt.title('Monthly Charges by Churn')\n",
        "plt.suptitle('')\n",
        "\n",
        "# 3. Tenure distribution by churn\n",
        "plt.subplot(2, 4, 3)\n",
        "df_cleaned.boxplot(column='tenure', by='Churn', ax=plt.gca())\n",
        "plt.title('Tenure by Churn')\n",
        "plt.suptitle('')\n",
        "\n",
        "# 4. Internet service vs churn\n",
        "plt.subplot(2, 4, 4)\n",
        "churn_internet = df_cleaned.groupby('InternetService')['Churn_Binary'].mean()\n",
        "churn_internet.plot(kind='bar', color='lightcoral', edgecolor='black')\n",
        "plt.title('Churn Rate by Internet Service')\n",
        "plt.xticks(rotation=45)\n",
        "\n",
        "# 5. Payment method vs churn\n",
        "plt.subplot(2, 4, 5)\n",
        "churn_payment = df_cleaned.groupby('PaymentMethod')['Churn_Binary'].mean()\n",
        "churn_payment.plot(kind='bar', color='lightgreen', edgecolor='black')\n",
        "plt.title('Churn Rate by Payment Method')\n",
        "plt.xticks(rotation=45)\n",
        "\n",
        "# 6. Total services vs churn\n",
        "plt.subplot(2, 4, 6)\n",
        "churn_services = df_cleaned.groupby('TotalServices')['Churn_Binary'].mean()\n",
        "churn_services.plot(kind='bar', color='gold', edgecolor='black')\n",
        "plt.title('Churn Rate by Total Services')\n",
        "\n",
        "# 7. Senior citizen vs churn\n",
        "plt.subplot(2, 4, 7)\n",
        "churn_senior = df_cleaned.groupby('SeniorCitizen')['Churn_Binary'].mean()\n",
        "churn_senior.plot(kind='bar', color='plum', edgecolor='black')\n",
        "plt.title('Churn Rate by Senior Citizen')\n",
        "plt.xticks(rotation=0)\n",
        "\n",
        "# 8. Correlation heatmap of key features\n",
        "plt.subplot(2, 4, 8)\n",
        "corr_features = ['tenure', 'MonthlyCharges', 'TotalCharges', 'TotalServices', 'Churn_Binary']\n",
        "corr_matrix = df_cleaned[corr_features].corr()\n",
        "sns.heatmap(corr_matrix, annot=True, cmap='coolwarm', center=0, square=True)\n",
        "plt.title('Feature Correlation Matrix')\n",
        "\n",
        "plt.tight_layout()\n",
        "plt.show()\n",
        "\n",
        "# Print key insights\n",
        "print(\"\\n=== KEY INSIGHTS ===\")\n",
        "print(f\"1. Overall churn rate: {df_cleaned['Churn_Binary'].mean():.2%}\")\n",
        "print(f\"2. Month-to-month contract churn rate: {df_cleaned[df_cleaned['Contract']=='Month-to-month']['Churn_Binary'].mean():.2%}\")\n",
        "print(f\"3. Fiber optic customers churn rate: {df_cleaned[df_cleaned['InternetService']=='Fiber optic']['Churn_Binary'].mean():.2%}\")\n",
        "print(f\"4. Electronic check payment churn rate: {df_cleaned[df_cleaned['PaymentMethod']=='Electronic check']['Churn_Binary'].mean():.2%}\")\n"
      ],
      "metadata": {
        "colab": {
          "base_uri": "https://localhost:8080/",
          "height": 943
        },
        "id": "z2ksElvhsH0w",
        "outputId": "dae1d861-fb3d-4bec-cbe5-1106d0af9f7c"
      },
      "execution_count": 13,
      "outputs": [
        {
          "output_type": "display_data",
          "data": {
            "text/plain": [
              "<Figure size 1600x1200 with 9 Axes>"
            ],
            "image/png": "[encoded data removed]"
          },
          "metadata": {}
        },
        {
          "output_type": "stream",
          "name": "stdout",
          "text": [
            "\n",
            "=== KEY INSIGHTS ===\n",
            "1. Overall churn rate: 26.54%\n",
            "2. Month-to-month contract churn rate: 42.71%\n",
            "3. Fiber optic customers churn rate: 41.89%\n",
            "4. Electronic check payment churn rate: 45.29%\n"
          ]
        }
      ]
    },
    {
      "cell_type": "markdown",
      "source": [
        "# LOGISTIC REGRESSION"
      ],
      "metadata": {
        "id": "sxkc7yRjNwFG"
      }
    },
    {
      "cell_type": "code",
      "source": [
        "import pandas as pd\n",
        "import numpy as np\n",
        "from sklearn.model_selection import train_test_split, cross_val_score, StratifiedKFold\n",
        "from sklearn.linear_model import LogisticRegression\n",
        "from sklearn.metrics import accuracy_score, precision_score, recall_score, f1_score, roc_auc_score, confusion_matrix, classification_report\n",
        "from sklearn.preprocessing import StandardScaler\n",
        "import matplotlib.pyplot as plt\n",
        "import seaborn as sns"
      ],
      "metadata": {
        "id": "2khqXug2Nz14"
      },
      "execution_count": 14,
      "outputs": []
    },
    {
      "cell_type": "code",
      "source": [
        "# Assuming you have X_scaled and y from the previous cleaning step\n",
        "print(\"=== LOGISTIC REGRESSION MODEL ===\")\n",
        "\n",
        "def train_logistic_regression(X, y, test_size=0.2, random_state=42):\n",
        "    \"\"\"\n",
        "    Train and evaluate logistic regression model\n",
        "    \"\"\"\n",
        "    # Split the data\n",
        "    X_train, X_test, y_train, y_test = train_test_split(\n",
        "        X, y, test_size=test_size, random_state=random_state, stratify=y\n",
        "    )\n",
        "\n",
        "    print(f\"Training set size: {X_train.shape[0]} samples\")\n",
        "    print(f\"Test set size: {X_test.shape[0]} samples\")\n",
        "    print(f\"Training set churn rate: {y_train.mean():.2%}\")\n",
        "    print(f\"Test set churn rate: {y_test.mean():.2%}\")\n",
        "\n",
        "    # Initialize and train the model\n",
        "    lr_model = LogisticRegression(\n",
        "        random_state=random_state,\n",
        "        max_iter=1000,  # Increase iterations for convergence\n",
        "        solver='liblinear'  # Good for smaller datasets\n",
        "    )\n",
        "\n",
        "    print(\"\\nTraining Logistic Regression model...\")\n",
        "    lr_model.fit(X_train, y_train)\n",
        "\n",
        "    # Make predictions\n",
        "    y_train_pred = lr_model.predict(X_train)\n",
        "    y_test_pred = lr_model.predict(X_test)\n",
        "\n",
        "    # Get prediction probabilities\n",
        "    y_train_prob = lr_model.predict_proba(X_train)[:, 1]\n",
        "    y_test_prob = lr_model.predict_proba(X_test)[:, 1]\n",
        "\n",
        "    return lr_model, X_train, X_test, y_train, y_test, y_train_pred, y_test_pred, y_train_prob, y_test_prob\n",
        "\n",
        "# Train the model\n",
        "lr_model, X_train, X_test, y_train, y_test, y_train_pred, y_test_pred, y_train_prob, y_test_prob = train_logistic_regression(X_scaled, y)"
      ],
      "metadata": {
        "colab": {
          "base_uri": "https://localhost:8080/"
        },
        "id": "MhyQwqX7N58L",
        "outputId": "19cca314-4a02-4bb9-fece-95d15ec57e81"
      },
      "execution_count": 15,
      "outputs": [
        {
          "output_type": "stream",
          "name": "stdout",
          "text": [
            "=== LOGISTIC REGRESSION MODEL ===\n",
            "Training set size: 5634 samples\n",
            "Test set size: 1409 samples\n",
            "Training set churn rate: 26.54%\n",
            "Test set churn rate: 26.54%\n",
            "\n",
            "Training Logistic Regression model...\n"
          ]
        }
      ]
    },
    {
      "cell_type": "code",
      "source": [
        "def evaluate_model(y_true, y_pred, y_prob, dataset_name=\"\"):\n",
        "    \"\"\"\n",
        "    Comprehensive model evaluation\n",
        "    \"\"\"\n",
        "    print(f\"\\n=== {dataset_name} SET PERFORMANCE ===\")\n",
        "\n",
        "    # Basic metrics\n",
        "    accuracy = accuracy_score(y_true, y_pred)\n",
        "    precision = precision_score(y_true, y_pred)\n",
        "    recall = recall_score(y_true, y_pred)\n",
        "    f1 = f1_score(y_true, y_pred)\n",
        "    roc_auc = roc_auc_score(y_true, y_prob)\n",
        "\n",
        "    print(f\"Accuracy:  {accuracy:.4f} ({accuracy:.2%})\")\n",
        "    print(f\"Precision: {precision:.4f} ({precision:.2%})\")\n",
        "    print(f\"Recall:    {recall:.4f} ({recall:.2%})\")\n",
        "    print(f\"F1-Score:  {f1:.4f}\")\n",
        "    print(f\"ROC-AUC:   {roc_auc:.4f}\")\n",
        "\n",
        "    # Confusion Matrix\n",
        "    cm = confusion_matrix(y_true, y_pred)\n",
        "    print(f\"\\nConfusion Matrix:\")\n",
        "    print(f\"True Negatives (Stayed):  {cm[0,0]}\")\n",
        "    print(f\"False Positives (False Churn): {cm[0,1]}\")\n",
        "    print(f\"False Negatives (Missed Churn): {cm[1,0]}\")\n",
        "    print(f\"True Positives (Correct Churn): {cm[1,1]}\")\n",
        "\n",
        "    return {\n",
        "        'accuracy': accuracy,\n",
        "        'precision': precision,\n",
        "        'recall': recall,\n",
        "        'f1': f1,\n",
        "        'roc_auc': roc_auc,\n",
        "        'confusion_matrix': cm\n",
        "    }\n",
        "\n",
        "# Evaluate on both training and test sets\n",
        "train_metrics = evaluate_model(y_train, y_train_pred, y_train_prob, \"TRAINING\")\n",
        "test_metrics = evaluate_model(y_test, y_test_pred, y_test_prob, \"TEST\")\n",
        "\n",
        "# Check for overfitting\n",
        "print(f\"\\n=== OVERFITTING CHECK ===\")\n",
        "print(f\"Training Accuracy: {train_metrics['accuracy']:.4f}\")\n",
        "print(f\"Test Accuracy:     {test_metrics['accuracy']:.4f}\")\n",
        "print(f\"Difference:        {train_metrics['accuracy'] - test_metrics['accuracy']:.4f}\")\n",
        "\n",
        "if train_metrics['accuracy'] - test_metrics['accuracy'] > 0.05:\n",
        "    print(\"⚠️  Potential overfitting detected!\")\n",
        "else:\n",
        "    print(\"✅ Model generalizes well!\")"
      ],
      "metadata": {
        "colab": {
          "base_uri": "https://localhost:8080/"
        },
        "id": "Wky0jpiQODzO",
        "outputId": "3648b228-09a9-48f9-908e-b0dc6f35a287"
      },
      "execution_count": 16,
      "outputs": [
        {
          "output_type": "stream",
          "name": "stdout",
          "text": [
            "\n",
            "=== TRAINING SET PERFORMANCE ===\n",
            "Accuracy:  0.8097 (80.97%)\n",
            "Precision: 0.6779 (67.79%)\n",
            "Recall:    0.5391 (53.91%)\n",
            "F1-Score:  0.6006\n",
            "ROC-AUC:   0.8522\n",
            "\n",
            "Confusion Matrix:\n",
            "True Negatives (Stayed):  3756\n",
            "False Positives (False Churn): 383\n",
            "False Negatives (Missed Churn): 689\n",
            "True Positives (Correct Churn): 806\n",
            "\n",
            "=== TEST SET PERFORMANCE ===\n",
            "Accuracy:  0.8070 (80.70%)\n",
            "Precision: 0.6723 (67.23%)\n",
            "Recall:    0.5321 (53.21%)\n",
            "F1-Score:  0.5940\n",
            "ROC-AUC:   0.8472\n",
            "\n",
            "Confusion Matrix:\n",
            "True Negatives (Stayed):  938\n",
            "False Positives (False Churn): 97\n",
            "False Negatives (Missed Churn): 175\n",
            "True Positives (Correct Churn): 199\n",
            "\n",
            "=== OVERFITTING CHECK ===\n",
            "Training Accuracy: 0.8097\n",
            "Test Accuracy:     0.8070\n",
            "Difference:        0.0028\n",
            "✅ Model generalizes well!\n"
          ]
        }
      ]
    },
    {
      "cell_type": "code",
      "source": [
        "def prepare_predictions_for_database(model, X, y, customer_ids):\n",
        "    \"\"\"\n",
        "    Prepare predictions in format ready for MSSQL storage\n",
        "    \"\"\"\n",
        "    # Get predictions and probabilities\n",
        "    predictions = model.predict(X)\n",
        "    probabilities = model.predict_proba(X)[:, 1]  # Probability of churn\n",
        "\n",
        "    # Create results dataframe\n",
        "    results_df = pd.DataFrame({\n",
        "        'CustomerID': customer_ids,\n",
        "        'LR_Prediction': predictions,\n",
        "        'LR_Probability': probabilities,\n",
        "        'Actual_Churn': y\n",
        "    })\n",
        "\n",
        "    # Add risk categories\n",
        "    results_df['Risk_Category'] = pd.cut(\n",
        "        results_df['LR_Probability'],\n",
        "        bins=[0, 0.3, 0.7, 1.0],\n",
        "        labels=['Low Risk', 'Medium Risk', 'High Risk']\n",
        "    )\n",
        "\n",
        "    print(\"=== PREDICTION SUMMARY ===\")\n",
        "    print(f\"Total customers: {len(results_df)}\")\n",
        "    print(\"\\nRisk Distribution:\")\n",
        "    print(results_df['Risk_Category'].value_counts())\n",
        "\n",
        "    print(f\"\\nHigh-risk customers (>70% churn probability): {(results_df['LR_Probability'] > 0.7).sum()}\")\n",
        "    print(f\"Model accuracy: {accuracy_score(y, predictions):.2%}\")\n",
        "\n",
        "    return results_df\n",
        "\n",
        "# Prepare predictions (you'll need to get original customer IDs)\n",
        "# Assuming you have df_cleaned from earlier with customerID column\n",
        "predictions_df = prepare_predictions_for_database(\n",
        "    lr_model,\n",
        "    X_scaled,\n",
        "    y,\n",
        "    df_cleaned['customerID']  # Original customer IDs\n",
        ")\n",
        "\n",
        "print(predictions_df)\n",
        "# Save for database insertion\n",
        "predictions_df.to_csv('logistic_regression_predictions.csv', index=False)\n",
        "print(\"\\n✅ Predictions saved to 'logistic_regression_predictions.csv'\")"
      ],
      "metadata": {
        "colab": {
          "base_uri": "https://localhost:8080/"
        },
        "id": "jmQd996pOrZO",
        "outputId": "a0149d4d-de57-40ac-cf1f-78ae67dbcab5"
      },
      "execution_count": 17,
      "outputs": [
        {
          "output_type": "stream",
          "name": "stdout",
          "text": [
            "=== PREDICTION SUMMARY ===\n",
            "Total customers: 7043\n",
            "\n",
            "Risk Distribution:\n",
            "Risk_Category\n",
            "Low Risk       4432\n",
            "Medium Risk    2077\n",
            "High Risk       534\n",
            "Name: count, dtype: int64\n",
            "\n",
            "High-risk customers (>70% churn probability): 534\n",
            "Model accuracy: 80.92%\n",
            "      CustomerID  LR_Prediction  LR_Probability  Actual_Churn Risk_Category\n",
            "0     7590-VHVEG              1        0.647477             0   Medium Risk\n",
            "1     5575-GNVDE              0        0.038573             0      Low Risk\n",
            "2     3668-QPYBK              0        0.319894             1   Medium Risk\n",
            "3     7795-CFOCW              0        0.036021             0      Low Risk\n",
            "4     9237-HQITU              1        0.745378             1     High Risk\n",
            "...          ...            ...             ...           ...           ...\n",
            "7038  6840-RESVB              0        0.109606             0      Low Risk\n",
            "7039  2234-XADUH              0        0.167001             0      Low Risk\n",
            "7040  4801-JZAZL              0        0.346630             0   Medium Risk\n",
            "7041  8361-LTMKD              1        0.712998             1     High Risk\n",
            "7042  3186-AJIEK              0        0.043014             0      Low Risk\n",
            "\n",
            "[7043 rows x 5 columns]\n",
            "\n",
            "✅ Predictions saved to 'logistic_regression_predictions.csv'\n"
          ]
        }
      ]
    },
    {
      "cell_type": "markdown",
      "source": [
        "# XGBOOST"
      ],
      "metadata": {
        "id": "f-_TzdQVqgDI"
      }
    },
    {
      "cell_type": "code",
      "source": [
        "!pip install xgboost"
      ],
      "metadata": {
        "colab": {
          "base_uri": "https://localhost:8080/"
        },
        "id": "5zNoFcyBqhzg",
        "outputId": "8e0760cb-c7b1-4034-cc05-79c78a9fb05e"
      },
      "execution_count": 18,
      "outputs": [
        {
          "output_type": "stream",
          "name": "stdout",
          "text": [
            "Requirement already satisfied: xgboost in /usr/local/lib/python3.11/dist-packages (3.0.3)\n",
            "Requirement already satisfied: numpy in /usr/local/lib/python3.11/dist-packages (from xgboost) (2.0.2)\n",
            "Requirement already satisfied: nvidia-nccl-cu12 in /usr/local/lib/python3.11/dist-packages (from xgboost) (2.23.4)\n",
            "Requirement already satisfied: scipy in /usr/local/lib/python3.11/dist-packages (from xgboost) (1.16.1)\n"
          ]
        }
      ]
    },
    {
      "cell_type": "code",
      "source": [
        "from xgboost import XGBClassifier\n",
        "from sklearn.metrics import accuracy_score, precision_score, recall_score, f1_score, roc_auc_score, confusion_matrix, classification_report\n",
        "from sklearn.model_selection import train_test_split, cross_val_score, GridSearchCV\n",
        "import matplotlib.pyplot as plt\n",
        "import pandas as pd\n",
        "import numpy as np\n",
        "import seaborn as sns\n",
        "\n",
        "def train_xgboost_model(X, y, test_size=0.2, random_state=42):\n",
        "    \"\"\"\n",
        "    Train and evaluate XGBoost model for customer churn prediction\n",
        "    \"\"\"\n",
        "    # Split the data\n",
        "    X_train, X_test, y_train, y_test = train_test_split(\n",
        "        X, y, test_size=test_size, random_state=random_state, stratify=y\n",
        "    )\n",
        "\n",
        "    print(f\"=== XGBOOST MODEL TRAINING ===\")\n",
        "    print(f\"Training set size: {X_train.shape[0]} samples\")\n",
        "    print(f\"Test set size: {X_test.shape[0]} samples\")\n",
        "    print(f\"Feature count: {X_train.shape[1]}\")\n",
        "\n",
        "    # Initialize XGBoost with optimized parameters for churn prediction\n",
        "    xgb_model_fixed = XGBClassifier(\n",
        "      objective='binary:logistic',\n",
        "      eval_metric='logloss',\n",
        "      use_label_encoder=False,\n",
        "\n",
        "      # REDUCED COMPLEXITY PARAMETERS\n",
        "      n_estimators=100,      # Reduced from 200\n",
        "      max_depth=4,           # Reduced from 6\n",
        "      learning_rate=0.1,     # Keep same\n",
        "\n",
        "      # STRONGER REGULARIZATION\n",
        "      reg_alpha=10,          # Increased L1 regularization\n",
        "      reg_lambda=10,         # Increased L2 regularization\n",
        "\n",
        "      # MORE AGGRESSIVE SAMPLING\n",
        "      subsample=0.7,         # Reduced from 0.8\n",
        "      colsample_bytree=0.7,  # Reduced from 0.8\n",
        "\n",
        "      # EARLY STOPPING\n",
        "      early_stopping_rounds=10,\n",
        "\n",
        "      random_state=42,\n",
        "      n_jobs=-1\n",
        "  )\n",
        "\n",
        "    print(\"Training XGBoost model...\")\n",
        "    # Train with early stopping to prevent overfitting\n",
        "    xgb_model_fixed.fit(\n",
        "      X_train, y_train,\n",
        "      eval_set=[(X_test, y_test)],\n",
        "      verbose=False\n",
        "    )\n",
        "\n",
        "    # Make predictions\n",
        "    y_train_pred = xgb_model_fixed.predict(X_train)\n",
        "    y_test_pred = xgb_model_fixed.predict(X_test)\n",
        "\n",
        "    # Get prediction probabilities\n",
        "    y_train_prob = xgb_model_fixed.predict_proba(X_train)[:, 1]\n",
        "    y_test_prob = xgb_model_fixed.predict_proba(X_test)[:, 1]\n",
        "\n",
        "    return xgb_model_fixed, X_train, X_test, y_train, y_test, y_train_pred, y_test_pred, y_train_prob, y_test_prob\n",
        "\n",
        "# Train the model (assuming X_scaled and y are available from your data cleaning)\n",
        "xgb_model_fixed, X_train, X_test, y_train, y_test, y_train_pred, y_test_pred, y_train_prob, y_test_prob = train_xgboost_model(X_scaled, y)"
      ],
      "metadata": {
        "colab": {
          "base_uri": "https://localhost:8080/"
        },
        "id": "0IEr5Ze-qlZh",
        "outputId": "aebc7955-9d79-43ae-9199-09371bb28ee9"
      },
      "execution_count": 19,
      "outputs": [
        {
          "output_type": "stream",
          "name": "stdout",
          "text": [
            "=== XGBOOST MODEL TRAINING ===\n",
            "Training set size: 5634 samples\n",
            "Test set size: 1409 samples\n",
            "Feature count: 29\n",
            "Training XGBoost model...\n"
          ]
        },
        {
          "output_type": "stream",
          "name": "stderr",
          "text": [
            "/usr/local/lib/python3.11/dist-packages/xgboost/callback.py:386: UserWarning: [18:09:47] WARNING: /workspace/src/learner.cc:738: \n",
            "Parameters: { \"use_label_encoder\" } are not used.\n",
            "\n",
            "  self.starting_round = model.num_boosted_rounds()\n"
          ]
        }
      ]
    },
    {
      "cell_type": "code",
      "source": [
        "def evaluate_xgboost_model(y_true, y_pred, y_prob, dataset_name=\"\"):\n",
        "    \"\"\"\n",
        "    Comprehensive evaluation of XGBoost model performance\n",
        "    \"\"\"\n",
        "    print(f\"\\n=== {dataset_name} SET PERFORMANCE ===\")\n",
        "\n",
        "    # Calculate metrics\n",
        "    accuracy = accuracy_score(y_true, y_pred)\n",
        "    precision = precision_score(y_true, y_pred)\n",
        "    recall = recall_score(y_true, y_pred)\n",
        "    f1 = f1_score(y_true, y_pred)\n",
        "    roc_auc = roc_auc_score(y_true, y_prob)\n",
        "\n",
        "    print(f\"Accuracy:  {accuracy:.4f} ({accuracy:.2%})\")\n",
        "    print(f\"Precision: {precision:.4f} ({precision:.2%})\")\n",
        "    print(f\"Recall:    {recall:.4f} ({recall:.2%})\")\n",
        "    print(f\"F1-Score:  {f1:.4f}\")\n",
        "    print(f\"ROC-AUC:   {roc_auc:.4f}\")\n",
        "\n",
        "    # Confusion Matrix\n",
        "    cm = confusion_matrix(y_true, y_pred)\n",
        "    print(f\"\\nConfusion Matrix:\")\n",
        "    print(f\"True Negatives (Correctly predicted stays):  {cm[0,0]}\")\n",
        "    print(f\"False Positives (False churn alerts):        {cm[0,1]}\")\n",
        "    print(f\"False Negatives (Missed churns):             {cm[1,0]}\")\n",
        "    print(f\"True Positives (Correctly predicted churn):  {cm[1,1]}\")\n",
        "\n",
        "    # Business metrics\n",
        "    total_churns = cm[1,0] + cm[1,1]\n",
        "    total_stays = cm[0,0] + cm[0,1]\n",
        "\n",
        "    print(f\"\\n=== BUSINESS IMPACT METRICS ===\")\n",
        "    print(f\"Total actual churns: {total_churns}\")\n",
        "    print(f\"Churns correctly identified: {cm[1,1]} ({cm[1,1]/total_churns:.2%})\")\n",
        "    print(f\"Churns missed: {cm[1,0]} ({cm[1,0]/total_churns:.2%})\")\n",
        "    print(f\"False alerts: {cm[0,1]} (wasted retention effort)\")\n",
        "\n",
        "    return {\n",
        "        'accuracy': accuracy,\n",
        "        'precision': precision,\n",
        "        'recall': recall,\n",
        "        'f1': f1,\n",
        "        'roc_auc': roc_auc,\n",
        "        'confusion_matrix': cm\n",
        "    }\n",
        "\n",
        "# Evaluate on both sets\n",
        "train_metrics = evaluate_xgboost_model(y_train, y_train_pred, y_train_prob, \"TRAINING\")\n",
        "test_metrics = evaluate_xgboost_model(y_test, y_test_pred, y_test_prob, \"TEST\")\n",
        "\n",
        "print(f\"\\n=== OVERFITTING CHECK ===\")\n",
        "print(f\"Training Accuracy: {train_metrics['accuracy']:.4f}\")\n",
        "print(f\"Test Accuracy:     {test_metrics['accuracy']:.4f}\")\n",
        "print(f\"Difference:        {train_metrics['accuracy'] - test_metrics['accuracy']:.4f}\")\n",
        "\n",
        "if train_metrics['accuracy'] - test_metrics['accuracy'] > 0.05:\n",
        "    print(\"⚠️  Potential overfitting detected!\")\n",
        "else:\n",
        "    print(\"✅ Model generalizes well!\")"
      ],
      "metadata": {
        "colab": {
          "base_uri": "https://localhost:8080/"
        },
        "id": "rLsgPJ4zsSlx",
        "outputId": "afc3a5ca-0585-4246-e937-45ce50ca5cbd"
      },
      "execution_count": 20,
      "outputs": [
        {
          "output_type": "stream",
          "name": "stdout",
          "text": [
            "\n",
            "=== TRAINING SET PERFORMANCE ===\n",
            "Accuracy:  0.8204 (82.04%)\n",
            "Precision: 0.6981 (69.81%)\n",
            "Recall:    0.5692 (56.92%)\n",
            "F1-Score:  0.6271\n",
            "ROC-AUC:   0.8681\n",
            "\n",
            "Confusion Matrix:\n",
            "True Negatives (Correctly predicted stays):  3771\n",
            "False Positives (False churn alerts):        368\n",
            "False Negatives (Missed churns):             644\n",
            "True Positives (Correctly predicted churn):  851\n",
            "\n",
            "=== BUSINESS IMPACT METRICS ===\n",
            "Total actual churns: 1495\n",
            "Churns correctly identified: 851 (56.92%)\n",
            "Churns missed: 644 (43.08%)\n",
            "False alerts: 368 (wasted retention effort)\n",
            "\n",
            "=== TEST SET PERFORMANCE ===\n",
            "Accuracy:  0.8034 (80.34%)\n",
            "Precision: 0.6633 (66.33%)\n",
            "Recall:    0.5267 (52.67%)\n",
            "F1-Score:  0.5872\n",
            "ROC-AUC:   0.8472\n",
            "\n",
            "Confusion Matrix:\n",
            "True Negatives (Correctly predicted stays):  935\n",
            "False Positives (False churn alerts):        100\n",
            "False Negatives (Missed churns):             177\n",
            "True Positives (Correctly predicted churn):  197\n",
            "\n",
            "=== BUSINESS IMPACT METRICS ===\n",
            "Total actual churns: 374\n",
            "Churns correctly identified: 197 (52.67%)\n",
            "Churns missed: 177 (47.33%)\n",
            "False alerts: 100 (wasted retention effort)\n",
            "\n",
            "=== OVERFITTING CHECK ===\n",
            "Training Accuracy: 0.8204\n",
            "Test Accuracy:     0.8034\n",
            "Difference:        0.0170\n",
            "✅ Model generalizes well!\n"
          ]
        }
      ]
    },
    {
      "cell_type": "code",
      "source": [
        "def prepare_xgboost_predictions_for_database(model, X, y, customer_ids):\n",
        "    \"\"\"\n",
        "    Prepare XGBoost predictions for database storage alongside LR predictions\n",
        "    \"\"\"\n",
        "    # Get predictions and probabilities\n",
        "    xgb_predictions = model.predict(X)\n",
        "    xgb_probabilities = model.predict_proba(X)[:, 1]\n",
        "\n",
        "    # Create XGBoost results dataframe\n",
        "    xgb_results_df = pd.DataFrame({\n",
        "        'CustomerID': customer_ids,\n",
        "        'XGB_Prediction': xgb_predictions,\n",
        "        'XGB_Probability': xgb_probabilities,\n",
        "        'Actual_Churn': y\n",
        "    })\n",
        "\n",
        "    # Add risk categories for XGBoost\n",
        "    xgb_results_df['XGB_Risk_Category'] = pd.cut(\n",
        "        xgb_results_df['XGB_Probability'],\n",
        "        bins=[0, 0.3, 0.7, 1.0],\n",
        "        labels=['Low Risk', 'Medium Risk', 'High Risk']\n",
        "    )\n",
        "\n",
        "    print(\"=== XGBOOST PREDICTION SUMMARY ===\")\n",
        "    print(f\"Total customers: {len(xgb_results_df)}\")\n",
        "    print(\"\\nXGBoost Risk Distribution:\")\n",
        "    print(xgb_results_df['XGB_Risk_Category'].value_counts())\n",
        "\n",
        "    high_risk_xgb = (xgb_results_df['XGB_Probability'] > 0.7).sum()\n",
        "    print(f\"\\nHigh-risk customers (>70% churn probability): {high_risk_xgb}\")\n",
        "    print(f\"XGBoost model accuracy: {accuracy_score(y, xgb_predictions):.2%}\")\n",
        "\n",
        "    return xgb_results_df\n",
        "\n",
        "# Generate XGBoost predictions\n",
        "xgb_predictions_df = prepare_xgboost_predictions_for_database(\n",
        "    xgb_model_fixed,\n",
        "    X_scaled,\n",
        "    y,\n",
        "    df_cleaned['customerID']  # Make sure this matches your data\n",
        ")\n",
        "\n",
        "# Combine with Logistic Regression predictions\n",
        "combined_predictions = pd.merge(\n",
        "    predictions_df,  # Your LR predictions\n",
        "    xgb_predictions_df[['CustomerID', 'XGB_Prediction', 'XGB_Probability', 'XGB_Risk_Category']],\n",
        "    on='CustomerID'\n",
        ")\n",
        "\n",
        "# Save combined predictions for database storage\n",
        "combined_predictions.to_csv('combined_model_predictions.csv', index=False)\n",
        "print(\"\\n✅ Combined predictions saved to 'combined_model_predictions.csv'\")\n"
      ],
      "metadata": {
        "colab": {
          "base_uri": "https://localhost:8080/"
        },
        "id": "FCxxyPngKAN2",
        "outputId": "ad351fe5-01c5-4b7f-d44a-7f50817b52c5"
      },
      "execution_count": 21,
      "outputs": [
        {
          "output_type": "stream",
          "name": "stdout",
          "text": [
            "=== XGBOOST PREDICTION SUMMARY ===\n",
            "Total customers: 7043\n",
            "\n",
            "XGBoost Risk Distribution:\n",
            "XGB_Risk_Category\n",
            "Low Risk       4453\n",
            "Medium Risk    1978\n",
            "High Risk       612\n",
            "Name: count, dtype: int64\n",
            "\n",
            "High-risk customers (>70% churn probability): 612\n",
            "XGBoost model accuracy: 81.70%\n",
            "\n",
            "✅ Combined predictions saved to 'combined_model_predictions.csv'\n"
          ]
        }
      ]
    }
  ]
}